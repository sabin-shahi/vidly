{
 "cells": [
  {
   "cell_type": "code",
   "execution_count": null,
   "metadata": {},
   "outputs": [
    {
     "name": "stdout",
     "output_type": "stream",
     "text": [
      "select an operation to be performed: \n",
      "Select  an operaration to perform:\n",
      "1. ADD\n",
      "2. SUBTRACT\n",
      "3. MULTIPLY\n",
      "4. DIVIDE\n"
     ]
    }
   ],
   "source": [
    "print('select an operation to be performed: ')\n",
    "print('Select  an operaration to perform:')\n",
    "print('1. ADD')\n",
    "print('2. SUBTRACT')\n",
    "print('3. MULTIPLY')\n",
    "print('4. DIVIDE')\n",
    "first = 0\n",
    "second = 0\n",
    "operation = 0\n",
    "o = 0\n",
    "a = input('please enter a number')\n",
    "first = int(a)\n",
    "b = input('please enter second number')\n",
    "second = int(b)\n",
    "c = input('enter 1,2,3, and 4 to perform additon, subtractin, multiplication and division respectively')\n",
    "operation = int(c)\n",
    "# real_first = int(first)\n",
    "# real_second = int(second)\n",
    "\n",
    "if operation == 1:\n",
    "    o = first + second\n",
    "elif operation == 2:\n",
    "    o = first - second\n",
    "elif operation == 3:\n",
    "    o = first * second\n",
    "elif operation == 4:\n",
    "    o = first/second\n",
    "else:\n",
    "    print('wrong_input')\n",
    "    \n",
    "print(f'result for operation is : {o}.')\n"
   ]
  },
  {
   "cell_type": "code",
   "execution_count": null,
   "metadata": {},
   "outputs": [],
   "source": []
  },
  {
   "cell_type": "code",
   "execution_count": 1,
   "metadata": {},
   "outputs": [
    {
     "name": "stdout",
     "output_type": "stream",
     "text": [
      "Select an operation to be performed:\n",
      "1. ADD\n",
      "2. SUBTRACT\n",
      "3. MULTIPLY\n",
      "4. DIVIDE\n"
     ]
    }
   ],
   "source": [
    "\n",
    "print('Select an operation to be performed:')\n",
    "print('1. ADD')\n",
    "print('2. SUBTRACT')\n",
    "print('3. MULTIPLY')\n",
    "print('4. DIVIDE')\n",
    "\n",
    "# Initialize variables\n",
    "first = 0\n",
    "second = 0\n",
    "operation = ''\n",
    "result = None\n",
    "\n",
    "# Get user input\n",
    "first = float(input('Please enter the first number: '))\n",
    "second = float(input('Please enter the second number: '))\n",
    "operation = input('Enter 1, 2, 3, or 4 to perform addition, subtraction, multiplication, and division respectively: ')\n",
    "\n",
    "# Perform the operation based on user input\n",
    "if operation == '1':\n",
    "    result = first + second\n",
    "elif operation == '2':\n",
    "    result = first - second\n",
    "elif operation == '3':\n",
    "    result = first * second\n",
    "elif operation == '4':\n",
    "    if second != 0:  # Check for division by zero\n",
    "        result = first / second\n",
    "    else:\n",
    "        print('Error: Division by zero is not allowed.')\n",
    "else:\n",
    "    print('Wrong input')\n",
    "\n",
    "# Display the result if a valid operation was performed\n",
    "if result is not None:\n",
    "    print(f'Result for the operation is: {result}.')"
   ]
  },
  {
   "cell_type": "code",
   "execution_count": null,
   "metadata": {},
   "outputs": [],
   "source": []
  }
 ],
 "metadata": {
  "kernelspec": {
   "display_name": "Python 3",
   "language": "python",
   "name": "python3"
  },
  "language_info": {
   "codemirror_mode": {
    "name": "ipython",
    "version": 3
   },
   "file_extension": ".py",
   "mimetype": "text/x-python",
   "name": "python",
   "nbconvert_exporter": "python",
   "pygments_lexer": "ipython3",
   "version": "3.12.6"
  }
 },
 "nbformat": 4,
 "nbformat_minor": 2
}
